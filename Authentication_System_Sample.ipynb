{
 "cells": [
  {
   "cell_type": "code",
   "execution_count": 1,
   "metadata": {
    "collapsed": true
   },
   "outputs": [],
   "source": [
    "from besmart.api.users import User"
   ]
  },
  {
   "cell_type": "code",
   "execution_count": 2,
   "outputs": [],
   "source": [
    "user1 = User()\n",
    "user2 = User()"
   ],
   "metadata": {
    "collapsed": false,
    "pycharm": {
     "name": "#%%\n"
    }
   }
  },
  {
   "cell_type": "code",
   "execution_count": 3,
   "outputs": [
    {
     "data": {
      "text/plain": "(['*', '?', '!', '#', '&', '=', '(', ')', '_', '-'],\n ['*', '?', '!', '#', '&', '=', '(', ')', '_', '-'])"
     },
     "execution_count": 3,
     "metadata": {},
     "output_type": "execute_result"
    }
   ],
   "source": [
    "user1.special_characters, user2.special_characters"
   ],
   "metadata": {
    "collapsed": false,
    "pycharm": {
     "name": "#%%\n"
    }
   }
  },
  {
   "cell_type": "code",
   "execution_count": 4,
   "outputs": [],
   "source": [
    "User.special_characters.append(\"A\")"
   ],
   "metadata": {
    "collapsed": false,
    "pycharm": {
     "name": "#%%\n"
    }
   }
  },
  {
   "cell_type": "code",
   "execution_count": 5,
   "outputs": [
    {
     "data": {
      "text/plain": "(['*', '?', '!', '#', '&', '=', '(', ')', '_', '-', 'A'],\n ['*', '?', '!', '#', '&', '=', '(', ')', '_', '-', 'A'])"
     },
     "execution_count": 5,
     "metadata": {},
     "output_type": "execute_result"
    }
   ],
   "source": [
    "user1.special_characters, user2.special_characters"
   ],
   "metadata": {
    "collapsed": false,
    "pycharm": {
     "name": "#%%\n"
    }
   }
  },
  {
   "cell_type": "code",
   "execution_count": 6,
   "outputs": [
    {
     "data": {
      "text/plain": "['*', '?', '!', '#', '&', '=', '(', ')', '_', '-', 'A']"
     },
     "execution_count": 6,
     "metadata": {},
     "output_type": "execute_result"
    }
   ],
   "source": [
    "user3 = User()\n",
    "user3.special_characters"
   ],
   "metadata": {
    "collapsed": false,
    "pycharm": {
     "name": "#%%\n"
    }
   }
  },
  {
   "cell_type": "code",
   "execution_count": 7,
   "outputs": [
    {
     "data": {
      "text/plain": "<users.User at 0x7feb44e8e430>"
     },
     "execution_count": 7,
     "metadata": {},
     "output_type": "execute_result"
    }
   ],
   "source": [
    "request_body = {\n",
    "    \"name\": \"A B\",\n",
    "    \"email\": \"a@b.fcc\",\n",
    "    \"password\": \"yhreA31!_-\",\n",
    "    \"second_password\": \"yhreA31!_-\"\n",
    "}\n",
    "user4 = User.from_dict(request_body)\n",
    "user4"
   ],
   "metadata": {
    "collapsed": false,
    "pycharm": {
     "name": "#%%\n"
    }
   }
  },
  {
   "cell_type": "code",
   "execution_count": 9,
   "outputs": [],
   "source": [
    "connection_string = \"Database Example/users.db\""
   ],
   "metadata": {
    "collapsed": false,
    "pycharm": {
     "name": "#%%\n"
    }
   }
  },
  {
   "cell_type": "code",
   "execution_count": 9,
   "outputs": [],
   "source": [
    "from besmart.api.repository import create_user\n",
    "create_user(user4, connection_string)"
   ],
   "metadata": {
    "collapsed": false,
    "pycharm": {
     "name": "#%%\n"
    }
   }
  },
  {
   "cell_type": "code",
   "execution_count": 10,
   "outputs": [
    {
     "data": {
      "text/plain": "[('a@b.fcc', 'yhreA31!_-')]"
     },
     "execution_count": 10,
     "metadata": {},
     "output_type": "execute_result"
    }
   ],
   "source": [
    "from besmart.api.repository import get_user_by_email\n",
    "existing_user = get_user_by_email(user4, connection_string)\n",
    "existing_user"
   ],
   "metadata": {
    "collapsed": false,
    "pycharm": {
     "name": "#%%\n"
    }
   }
  },
  {
   "cell_type": "code",
   "execution_count": 1,
   "outputs": [],
   "source": [
    "from besmart.api.register import signup\n",
    "\n",
    "request_body = {\n",
    "    \"name\": \"A B\",\n",
    "    \"email\": \"ar3@b.fcc\",\n",
    "    \"password\": \"yhreA31!_-\",\n",
    "    \"second_password\": \"yhreA31!_-\"\n",
    "}\n",
    "connection_string = \"Database Example/users.db\"\n",
    "\n",
    "signup(request_body, connection_string)"
   ],
   "metadata": {
    "collapsed": false,
    "pycharm": {
     "name": "#%%\n"
    }
   }
  },
  {
   "cell_type": "code",
   "execution_count": 3,
   "outputs": [
    {
     "data": {
      "text/plain": "(8, 'A B', 'ar3@b.fcc', 'yhreA31!_-')"
     },
     "execution_count": 3,
     "metadata": {},
     "output_type": "execute_result"
    }
   ],
   "source": [
    "from besmart.api.register import signin\n",
    "\n",
    "request_body = {\n",
    "    \"email\": \"ar3@b.fcc\",\n",
    "    \"password\": \"yhreA31!_-\",\n",
    "}\n",
    "connection_string = \"Database Example/users.db\"\n",
    "\n",
    "user = signin(request_body, connection_string)\n",
    "user.id, user.name, user.email, user.password"
   ],
   "metadata": {
    "collapsed": false,
    "pycharm": {
     "name": "#%%\n"
    }
   }
  },
  {
   "cell_type": "code",
   "execution_count": null,
   "outputs": [],
   "source": [],
   "metadata": {
    "collapsed": false,
    "pycharm": {
     "name": "#%%\n"
    }
   }
  }
 ],
 "metadata": {
  "kernelspec": {
   "display_name": "Python 3",
   "language": "python",
   "name": "python3"
  },
  "language_info": {
   "codemirror_mode": {
    "name": "ipython",
    "version": 2
   },
   "file_extension": ".py",
   "mimetype": "text/x-python",
   "name": "python",
   "nbconvert_exporter": "python",
   "pygments_lexer": "ipython2",
   "version": "2.7.6"
  }
 },
 "nbformat": 4,
 "nbformat_minor": 0
}
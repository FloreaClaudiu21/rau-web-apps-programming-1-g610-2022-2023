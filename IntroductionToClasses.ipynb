{
  "nbformat": 4,
  "nbformat_minor": 0,
  "metadata": {
    "colab": {
      "provenance": []
    },
    "kernelspec": {
      "name": "python3",
      "display_name": "Python 3"
    },
    "language_info": {
      "name": "python"
    }
  },
  "cells": [
    {
      "cell_type": "markdown",
      "source": [
        "Acesta este un notebook unde vom prezenta principalele structuri de date din Python, functii si clase."
      ],
      "metadata": {
        "id": "9Z1wlp_1DbOT"
      }
    },
    {
      "cell_type": "markdown",
      "source": [
        "Principalele structuri de date din Python sunt:\n",
        "- liste\n",
        "- tuples\n",
        "- sets\n",
        "- dictionaries"
      ],
      "metadata": {
        "id": "1RDRYv_WDjlL"
      }
    },
    {
      "cell_type": "code",
      "execution_count": 19,
      "metadata": {
        "colab": {
          "base_uri": "https://localhost:8080/"
        },
        "id": "dI8S6ORaCkOl",
        "outputId": "b0d09f57-d31d-4961-ef93-850c1aef74be"
      },
      "outputs": [
        {
          "output_type": "stream",
          "name": "stdout",
          "text": [
            "1\n",
            "{1, 2, 4}\n",
            "1\n",
            "[{'name': 'C#', 'year': 2}]\n"
          ]
        },
        {
          "output_type": "execute_result",
          "data": {
            "text/plain": [
              "[{'name': 'Web Apps 1', 'year': 2, 'status': 'in-progress'},\n",
              " {'name': 'C#', 'year': 2, 'status': 'in-progress'},\n",
              " {'name': 'C++', 'year': 1, 'status': 'completed'}]"
            ]
          },
          "metadata": {},
          "execution_count": 19
        }
      ],
      "source": [
        "# lista\n",
        "l = [1, 2, 3, 4, 5, \"a\", \"b\"]\n",
        "l[0] = 10\n",
        "\n",
        "# tuple\n",
        "t = (1, 1, 1, 10)\n",
        "print(t[0])\n",
        "\n",
        "# set (echivalentul unei multimi)\n",
        "s1 = {1, 2, 3, 4, 1, 1, 1, 1, 1}\n",
        "s2 = {1, 2, 4, 6, 6, 6, 6}\n",
        "print(s1.intersection(s2))\n",
        "\n",
        "# dictionaries\n",
        "d = {\n",
        "    \"name\": \"A\",\n",
        "    \"courses\": [\n",
        "        {\n",
        "            \"name\": \"Web Apps 1\",\n",
        "            \"year\": 2,\n",
        "            \"status\": \"in-progress\"\n",
        "        },\n",
        "        {\n",
        "            \"name\": \"C#\",\n",
        "            \"year\": 2\n",
        "        },\n",
        "        {\n",
        "            \"name\": \"C++\",\n",
        "            \"year\": 1,\n",
        "            \"status\": \"completed\"\n",
        "        }\n",
        "    ]\n",
        "}\n",
        "\n",
        "courses = d[\"courses\"]\n",
        "in_progress_num = 0\n",
        "\n",
        "missing_status = []\n",
        "\n",
        "for course in courses:\n",
        "  if course.get(\"status\") is not None and course[\"status\"] == \"in-progress\":\n",
        "    in_progress_num = in_progress_num + 1 # += 1\n",
        "  elif course.get(\"status\") is None:\n",
        "    missing_status.append(course)\n",
        "\n",
        "print(in_progress_num)\n",
        "print(missing_status)\n",
        "\n",
        "idx = courses.index(missing_status[0])\n",
        "courses[idx][\"status\"] = \"in-progress\"\n",
        "courses"
      ]
    },
    {
      "cell_type": "code",
      "source": [
        "N = 10000000\n",
        "l1 = []\n",
        "for i in range(N):\n",
        "  l1.append(i)\n"
      ],
      "metadata": {
        "id": "G_LNckffFuEy"
      },
      "execution_count": 20,
      "outputs": []
    },
    {
      "cell_type": "code",
      "source": [
        "l2 = [i for i in range(N)]"
      ],
      "metadata": {
        "id": "_cqyR5vnHZmY"
      },
      "execution_count": 22,
      "outputs": []
    },
    {
      "cell_type": "code",
      "source": [
        "def update_courses(courses, course_name, course_year=1, course_status=None, *args, **kwargs):\n",
        "  course = {\n",
        "      \"name\": course_name,\n",
        "      \"year\": course_year,\n",
        "      \"status\": course_status\n",
        "  }\n",
        "  if len(args) == 1:\n",
        "    idx = args[0]\n",
        "  elif kwargs.get(\"index\") is not None:\n",
        "    idx = kwargs.get(\"index\")\n",
        "  else:\n",
        "    idx = len(courses) - 1\n",
        "\n",
        "  courses.insert(idx, course)\n",
        "  return courses\n",
        "\n"
      ],
      "metadata": {
        "id": "qNA_lMjDHb9Y"
      },
      "execution_count": 35,
      "outputs": []
    },
    {
      "cell_type": "code",
      "source": [
        "courses = update_courses(courses, \"n\", 1, \"completed\")\n",
        "print(courses)"
      ],
      "metadata": {
        "colab": {
          "base_uri": "https://localhost:8080/"
        },
        "id": "BryRDCaLKnrd",
        "outputId": "398b0b73-1d26-488b-c710-cd02895d3f10"
      },
      "execution_count": 24,
      "outputs": [
        {
          "output_type": "stream",
          "name": "stdout",
          "text": [
            "[{'name': 'Web Apps 1', 'year': 2, 'status': 'in-progress'}, {'name': 'C#', 'year': 2, 'status': 'in-progress'}, {'name': 'n', 'year': 1, 'status': 'completed'}, {'name': 'C++', 'year': 1, 'status': 'completed'}]\n"
          ]
        }
      ]
    },
    {
      "cell_type": "code",
      "source": [
        "courses = update_courses(courses=courses, course_name=\"curs 2\", course_year=1, course_status=\"completed\")\n",
        "print(courses)"
      ],
      "metadata": {
        "colab": {
          "base_uri": "https://localhost:8080/"
        },
        "id": "SedwC3LEKxZw",
        "outputId": "c75851f7-9fb1-4d94-b63e-0da2db7cdd29"
      },
      "execution_count": 25,
      "outputs": [
        {
          "output_type": "stream",
          "name": "stdout",
          "text": [
            "[{'name': 'Web Apps 1', 'year': 2, 'status': 'in-progress'}, {'name': 'C#', 'year': 2, 'status': 'in-progress'}, {'name': 'n', 'year': 1, 'status': 'completed'}, {'name': 'curs 2', 'year': 1, 'status': 'completed'}, {'name': 'C++', 'year': 1, 'status': 'completed'}]\n"
          ]
        }
      ]
    },
    {
      "cell_type": "code",
      "source": [
        "courses = update_courses(courses, course_year=1, course_name=\"curs 3\", course_status=\"completed\")\n",
        "print(courses)"
      ],
      "metadata": {
        "colab": {
          "base_uri": "https://localhost:8080/"
        },
        "id": "B4B_XxssK-a7",
        "outputId": "6b28f853-c2c5-4410-ae8e-a9d20449ffd9"
      },
      "execution_count": 26,
      "outputs": [
        {
          "output_type": "stream",
          "name": "stdout",
          "text": [
            "[{'name': 'Web Apps 1', 'year': 2, 'status': 'in-progress'}, {'name': 'C#', 'year': 2, 'status': 'in-progress'}, {'name': 'n', 'year': 1, 'status': 'completed'}, {'name': 'curs 2', 'year': 1, 'status': 'completed'}, {'name': 'curs 3', 'year': 1, 'status': 'completed'}, {'name': 'C++', 'year': 1, 'status': 'completed'}]\n"
          ]
        }
      ]
    },
    {
      "cell_type": "code",
      "source": [
        "courses = update_courses(courses=courses, course_name=\"curs 5\", course_year=1, course_status=\"completed\", index=0)\n",
        "print(courses)"
      ],
      "metadata": {
        "colab": {
          "base_uri": "https://localhost:8080/"
        },
        "id": "I2Clqm4PLS60",
        "outputId": "ac6d013a-26aa-4ee4-b519-690dfbcec8f3"
      },
      "execution_count": 36,
      "outputs": [
        {
          "output_type": "stream",
          "name": "stdout",
          "text": [
            "() {'index': 0}\n",
            "[{'name': 'curs 5', 'year': 1, 'status': 'completed'}, {'name': 'curs 5', 'year': 1, 'status': 'completed'}, {'name': 'Web Apps 1', 'year': 2, 'status': 'in-progress'}, {'name': 'C#', 'year': 2, 'status': 'in-progress'}, {'name': 'n', 'year': 1, 'status': 'completed'}, {'name': 'curs 2', 'year': 1, 'status': 'completed'}, {'name': 'curs 3', 'year': 1, 'status': 'completed'}, {'name': 'curs 2', 'year': 1, 'status': 'completed'}, {'name': 'curs 2', 'year': 1, 'status': 'completed'}, {'name': 'curs 4', 'year': 1, 'status': 'completed'}, {'name': 'curs 5', 'year': 1, 'status': 'completed'}, {'name': 'C++', 'year': 1, 'status': 'completed'}]\n"
          ]
        }
      ]
    },
    {
      "cell_type": "code",
      "source": [
        "courses = update_courses(courses, \"curs 6\", 2, \"in-progress\", 0)\n",
        "print(courses)"
      ],
      "metadata": {
        "colab": {
          "base_uri": "https://localhost:8080/"
        },
        "id": "pPB9NfyDLjEE",
        "outputId": "6bd963c7-fd57-487a-fc78-2ff21a92e478"
      },
      "execution_count": 37,
      "outputs": [
        {
          "output_type": "stream",
          "name": "stdout",
          "text": [
            "(0,) {}\n",
            "[{'name': 'curs 6', 'year': 2, 'status': 'in-progress'}, {'name': 'curs 5', 'year': 1, 'status': 'completed'}, {'name': 'curs 5', 'year': 1, 'status': 'completed'}, {'name': 'Web Apps 1', 'year': 2, 'status': 'in-progress'}, {'name': 'C#', 'year': 2, 'status': 'in-progress'}, {'name': 'n', 'year': 1, 'status': 'completed'}, {'name': 'curs 2', 'year': 1, 'status': 'completed'}, {'name': 'curs 3', 'year': 1, 'status': 'completed'}, {'name': 'curs 2', 'year': 1, 'status': 'completed'}, {'name': 'curs 2', 'year': 1, 'status': 'completed'}, {'name': 'curs 4', 'year': 1, 'status': 'completed'}, {'name': 'curs 5', 'year': 1, 'status': 'completed'}, {'name': 'C++', 'year': 1, 'status': 'completed'}]\n"
          ]
        }
      ]
    },
    {
      "cell_type": "code",
      "source": [
        "class Course:\n",
        "  STATUS = [\"in-progress\", \"completed\", \"failed\", \"not-started\"]\n",
        "\n",
        "  def __init__(self, name, year, status):\n",
        "    self.name = name\n",
        "    self.year = year\n",
        "    self.status = status\n",
        "    self.validate()\n",
        "\n",
        "  def validate(self):\n",
        "    if not isinstance(self.name, str):\n",
        "      raise ValueError(f\"Invalid name format = {type(self.name)}.\")\n",
        "    \n",
        "    if self.year < 1 or self.year > 3:\n",
        "      raise ValueError(f\"Invalid year = {self.year}.\")\n",
        "\n",
        "    if self.status not in self.STATUS:\n",
        "      raise ValueError(f\"Invalid status = {self.status}.\")\n",
        "\n",
        "course1 = Course(\"Curs 1\", 1, \"completed\")\n",
        "course2 = Course(\"Curs 2\", 2, \"in-progress\")\n",
        "\n"
      ],
      "metadata": {
        "id": "rL8MsG8hMGZS"
      },
      "execution_count": 46,
      "outputs": []
    },
    {
      "cell_type": "code",
      "source": [
        "student = {\n",
        "    \"name\": \"S\",\n",
        "    \"courses\": [\n",
        "        Course(\"Curs 1\", 1, \"completed\"),\n",
        "        Course(\"Curs 2\", 2, \"in-progress\")\n",
        "    ]\n",
        "}\n"
      ],
      "metadata": {
        "id": "62QzfdIPOPg7"
      },
      "execution_count": null,
      "outputs": []
    },
    {
      "cell_type": "code",
      "source": [
        "class MasterCourse(Course):\n",
        "  \n",
        "  def __init__(self, name, year, status, points):\n",
        "    super(MasterCourse, self).__init__(name, year, status)\n",
        "\n",
        "    self.points = points\n",
        "\n"
      ],
      "metadata": {
        "id": "I-clAmkFQF7J"
      },
      "execution_count": 47,
      "outputs": []
    }
  ]
}